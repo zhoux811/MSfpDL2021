{
 "cells": [
  {
   "cell_type": "code",
   "execution_count": 1,
   "id": "1d8474e4",
   "metadata": {},
   "outputs": [],
   "source": [
    "import pickle\n",
    "import tensorflow as tf\n"
   ]
  },
  {
   "cell_type": "code",
   "execution_count": 2,
   "id": "710ef9c2",
   "metadata": {},
   "outputs": [
    {
     "name": "stdout",
     "output_type": "stream",
     "text": [
      "success\n",
      "number of test examples = 153\n",
      "X_test shape: (153, 150, 150, 3)\n",
      "Y_test shape: (153, 4)\n"
     ]
    }
   ],
   "source": [
    "pickle_in = open(\"X_test_4classesTesla_Man.pickle\", \"rb\")\n",
    "X_test = pickle.load(pickle_in)\n",
    "pickle_in.close()\n",
    "\n",
    "pickle_in = open(\"Y_test_4classesTesla_Man.pickle\", \"rb\")\n",
    "Y_test = pickle.load(pickle_in)\n",
    "pickle_in.close()\n",
    "\n",
    "print('success')\n",
    "\n",
    "print(\"number of test examples =\", X_test.shape[0])\n",
    "print(\"X_test shape:\", X_test.shape)\n",
    "print(\"Y_test shape:\", Y_test.shape)"
   ]
  },
  {
   "cell_type": "code",
   "execution_count": 3,
   "id": "ff2eafcb",
   "metadata": {},
   "outputs": [
    {
     "name": "stdout",
     "output_type": "stream",
     "text": [
      "WARNING:tensorflow:From c:\\users\\shio\\pycharmprojects\\ot\\venv\\lib\\site-packages\\tensorflow_core\\python\\ops\\resource_variable_ops.py:1630: calling BaseResourceVariable.__init__ (from tensorflow.python.ops.resource_variable_ops) with constraint is deprecated and will be removed in a future version.\n",
      "Instructions for updating:\n",
      "If using Keras pass *_constraint arguments to layers.\n",
      "153/153 - 1s - loss: 3.7138 - acc: 0.2549\n",
      "Untrained model, accuracy: 25.49%\n",
      "3.7137929847817017\n"
     ]
    }
   ],
   "source": [
    "model_Man= model = tf.keras.models.load_model('model_4classesTesla_Man_RenNetTraining.h5')\n",
    "\n",
    "loss, acc = model.evaluate(X_test, Y_test, verbose=2)\n",
    "print(\"Untrained model, accuracy: {:5.2f}%\".format(100 * acc))\n",
    "print(loss)"
   ]
  },
  {
   "cell_type": "code",
   "execution_count": 4,
   "id": "9543d364",
   "metadata": {},
   "outputs": [
    {
     "name": "stdout",
     "output_type": "stream",
     "text": [
      "success\n",
      "number of test examples = 165\n",
      "X_test shape: (165, 150, 150, 3)\n",
      "Y_test shape: (165, 4)\n"
     ]
    }
   ],
   "source": [
    "pickle_in = open(\"X_test_4classesTesla_DL.pickle\", \"rb\")\n",
    "X_test = pickle.load(pickle_in)\n",
    "pickle_in.close()\n",
    "\n",
    "pickle_in = open(\"Y_test_4classesTesla_DL.pickle\", \"rb\")\n",
    "Y_test = pickle.load(pickle_in)\n",
    "pickle_in.close()\n",
    "\n",
    "print('success')\n",
    "\n",
    "print(\"number of test examples =\", X_test.shape[0])\n",
    "print(\"X_test shape:\", X_test.shape)\n",
    "print(\"Y_test shape:\", Y_test.shape)\n"
   ]
  },
  {
   "cell_type": "code",
   "execution_count": 5,
   "id": "5c61ea06",
   "metadata": {},
   "outputs": [
    {
     "name": "stdout",
     "output_type": "stream",
     "text": [
      "165/165 - 1s - loss: 3.3068 - acc: 0.2970\n",
      "Untrained model, accuracy: 29.70%\n",
      "3.306786212054166\n"
     ]
    }
   ],
   "source": [
    "model_DL = model = tf.keras.models.load_model('model_4classesTesla_DL_RenNetTraining.h5')\n",
    "\n",
    "loss, acc = model.evaluate(X_test, Y_test, verbose=2)\n",
    "print(\"Untrained model, accuracy: {:5.2f}%\".format(100 * acc))\n",
    "print(loss)"
   ]
  },
  {
   "cell_type": "markdown",
   "id": "2e371b50",
   "metadata": {},
   "source": [
    "# corss evaluate"
   ]
  },
  {
   "cell_type": "code",
   "execution_count": 6,
   "id": "ad7aa03c",
   "metadata": {},
   "outputs": [
    {
     "name": "stdout",
     "output_type": "stream",
     "text": [
      "success\n",
      "number of test examples = 153\n",
      "X_test shape: (153, 150, 150, 3)\n",
      "Y_test shape: (153, 4)\n",
      "153/153 - 1s - loss: 1.2328 - acc: 0.7124\n",
      "Untrained model, accuracy: 71.24%\n",
      "1.2328482266345056\n"
     ]
    }
   ],
   "source": [
    "pickle_in = open(\"X_test_4classesTesla_Man.pickle\", \"rb\")\n",
    "X_test = pickle.load(pickle_in)\n",
    "pickle_in.close()\n",
    "\n",
    "pickle_in = open(\"Y_test_4classesTesla_Man.pickle\", \"rb\")\n",
    "Y_test = pickle.load(pickle_in)\n",
    "pickle_in.close()\n",
    "\n",
    "print('success')\n",
    "\n",
    "print(\"number of test examples =\", X_test.shape[0])\n",
    "print(\"X_test shape:\", X_test.shape)\n",
    "print(\"Y_test shape:\", Y_test.shape)\n",
    "\n",
    "model_DL = model = tf.keras.models.load_model('model_4classesTesla_DL_RenNetTraining.h5')\n",
    "\n",
    "loss, acc = model.evaluate(X_test, Y_test, verbose=2)\n",
    "print(\"Untrained model, accuracy: {:5.2f}%\".format(100 * acc))\n",
    "print(loss)"
   ]
  },
  {
   "cell_type": "code",
   "execution_count": 7,
   "id": "a86321a1",
   "metadata": {},
   "outputs": [
    {
     "name": "stdout",
     "output_type": "stream",
     "text": [
      "success\n",
      "number of test examples = 165\n",
      "X_test shape: (165, 150, 150, 3)\n",
      "Y_test shape: (165, 4)\n",
      "165/165 - 1s - loss: 2.0588 - acc: 0.6788\n",
      "Untrained model, accuracy: 67.88%\n",
      "2.058767685384461\n"
     ]
    }
   ],
   "source": [
    "pickle_in = open(\"X_test_4classesTesla_DL.pickle\", \"rb\")\n",
    "X_test = pickle.load(pickle_in)\n",
    "pickle_in.close()\n",
    "\n",
    "pickle_in = open(\"Y_test_4classesTesla_DL.pickle\", \"rb\")\n",
    "Y_test = pickle.load(pickle_in)\n",
    "pickle_in.close()\n",
    "\n",
    "print('success')\n",
    "\n",
    "print(\"number of test examples =\", X_test.shape[0])\n",
    "print(\"X_test shape:\", X_test.shape)\n",
    "print(\"Y_test shape:\", Y_test.shape)\n",
    "\n",
    "model_Man= model = tf.keras.models.load_model('model_4classesTesla_Man_RenNetTraining.h5')\n",
    "\n",
    "loss, acc = model.evaluate(X_test, Y_test, verbose=2)\n",
    "print(\"Untrained model, accuracy: {:5.2f}%\".format(100 * acc))\n",
    "print(loss)"
   ]
  }
 ],
 "metadata": {
  "kernelspec": {
   "display_name": "Python 3 (ipykernel)",
   "language": "python",
   "name": "python3"
  },
  "language_info": {
   "codemirror_mode": {
    "name": "ipython",
    "version": 3
   },
   "file_extension": ".py",
   "mimetype": "text/x-python",
   "name": "python",
   "nbconvert_exporter": "python",
   "pygments_lexer": "ipython3",
   "version": "3.7.9"
  }
 },
 "nbformat": 4,
 "nbformat_minor": 5
}
